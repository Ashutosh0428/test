{
 "cells": [
  {
   "cell_type": "markdown",
   "id": "1325a609",
   "metadata": {},
   "source": [
    "# Programming_Assingment"
   ]
  },
  {
   "cell_type": "code",
   "execution_count": 3,
   "id": "fd4dd467",
   "metadata": {},
   "outputs": [
    {
     "name": "stdout",
     "output_type": "stream",
     "text": [
      "Sum of all elements in given list:  74\n"
     ]
    }
   ],
   "source": [
    "1.\n",
    "\n",
    "list1 = [11, 5, 17, 18, 23]\n",
    "\n",
    "def sumOfList(list, size):\n",
    "    if (size == 0):\n",
    "        return 0\n",
    "    else:\n",
    "        return list[size - 1] + sumOfList(list, size - 1)\n",
    "\n",
    "total = sumOfList(list1, len(list1))\n",
    "\n",
    "print(\"Sum of all elements in given list: \", total)\n"
   ]
  },
  {
   "cell_type": "code",
   "execution_count": 6,
   "id": "b3aecffd",
   "metadata": {},
   "outputs": [
    {
     "name": "stdout",
     "output_type": "stream",
     "text": [
      "6\n",
      "24\n"
     ]
    }
   ],
   "source": [
    "2.\n",
    "\n",
    "\n",
    "def multiplyList(myList) :\n",
    "    result = 1\n",
    "    for x in myList:\n",
    "        result = result * x\n",
    "    return result\n",
    "\n",
    "list1 = [1, 2, 3]\n",
    "list2 = [3, 2, 4]\n",
    "print(multiplyList(list1))\n",
    "print(multiplyList(list2))\n"
   ]
  },
  {
   "cell_type": "code",
   "execution_count": 8,
   "id": "76ff6681",
   "metadata": {},
   "outputs": [
    {
     "name": "stdout",
     "output_type": "stream",
     "text": [
      "Enter number of elements in list: 5\n",
      "Enter elements: 4\n",
      "Enter elements: 4\n",
      "Enter elements: 5\n",
      "Enter elements: 7\n",
      "Enter elements: 54\n",
      "Smallest element is: 4\n"
     ]
    }
   ],
   "source": [
    "3.\n",
    "\n",
    "list1 = []\n",
    "\n",
    "num = int(input(\"Enter number of elements in list: \"))\n",
    "\n",
    "\n",
    "for i in range(1, num + 1):\n",
    "    ele= int(input(\"Enter elements: \"))\n",
    "    list1.append(ele)\n",
    "\n",
    "print(\"Smallest element is:\", min(list1))\n"
   ]
  },
  {
   "cell_type": "code",
   "execution_count": 9,
   "id": "ba62df42",
   "metadata": {},
   "outputs": [
    {
     "name": "stdout",
     "output_type": "stream",
     "text": [
      "Enter number of elements in list: 4\n",
      "Enter elements: 5\n",
      "Enter elements: 78\n",
      "Enter elements: 54\n",
      "Enter elements: 87\n",
      "Smallest element is: 87\n"
     ]
    }
   ],
   "source": [
    "4.\n",
    "\n",
    "list1 = []\n",
    "\n",
    "num = int(input(\"Enter number of elements in list: \"))\n",
    "\n",
    "\n",
    "for i in range(1, num + 1):\n",
    "    ele= int(input(\"Enter elements: \"))\n",
    "    list1.append(ele)\n",
    "\n",
    "print(\"Smallest element is:\", max(list1))"
   ]
  },
  {
   "cell_type": "code",
   "execution_count": 13,
   "id": "7c834ce9",
   "metadata": {},
   "outputs": [
    {
     "name": "stdout",
     "output_type": "stream",
     "text": [
      "Enter number of elements in list: 4\n",
      "Enter elements: 45\n",
      "Enter elements: 784\n",
      "Enter elements: 74\n",
      "Enter elements: 47\n",
      "[45, 784, 74, 47]\n",
      "Second largest element is: 74\n"
     ]
    }
   ],
   "source": [
    "5.\n",
    "\n",
    "list1 = []\n",
    "\n",
    "num = int(input(\"Enter number of elements in list: \"))\n",
    "\n",
    "\n",
    "for i in range(1, num + 1):\n",
    "    ele= int(input(\"Enter elements: \"))\n",
    "    list1.append(ele)\n",
    "print(list1)\n",
    "list1.sort()\n",
    "\n",
    "print(\"Second largest element is:\", list1[-2])\n"
   ]
  },
  {
   "cell_type": "code",
   "execution_count": 15,
   "id": "41a832eb",
   "metadata": {},
   "outputs": [
    {
     "name": "stdout",
     "output_type": "stream",
     "text": [
      "Enter number of elements in list: 6\n",
      "Enter elements: 78\n",
      "Enter elements: 45\n",
      "Enter elements: 87\n",
      "Enter elements: 100\n",
      "Enter elements: 47\n",
      "Enter elements: 87\n",
      "[78, 45, 87, 100, 47, 87]\n",
      "find no of N want:4\n",
      "[78, 87, 87, 100]\n"
     ]
    }
   ],
   "source": [
    "6.\n",
    "list1 = []\n",
    "\n",
    "num = int(input(\"Enter number of elements in list: \"))\n",
    "\n",
    "\n",
    "for i in range(1, num + 1):\n",
    "    ele= int(input(\"Enter elements: \"))\n",
    "    list1.append(ele)\n",
    "print(list1)\n",
    "n=int(input(\"find no of N want:\"))\n",
    "  \n",
    "list1.sort()\n",
    "print(list1[-n:])"
   ]
  },
  {
   "cell_type": "code",
   "execution_count": 17,
   "id": "6e62f0f8",
   "metadata": {},
   "outputs": [
    {
     "name": "stdout",
     "output_type": "stream",
     "text": [
      "10 20 4 66 "
     ]
    }
   ],
   "source": [
    "7.\n",
    "\n",
    "\n",
    "list1 = [10, 20, 4, 45, 66, 93]\n",
    "\n",
    "for num in list1:\n",
    "    if num % 2 == 0:\n",
    "        print(num, end=\" \")\n"
   ]
  },
  {
   "cell_type": "code",
   "execution_count": 19,
   "id": "4a319bb3",
   "metadata": {},
   "outputs": [
    {
     "name": "stdout",
     "output_type": "stream",
     "text": [
      "45 93 "
     ]
    }
   ],
   "source": [
    "8.\n",
    "list1 = [10, 20, 4, 45, 66, 93]\n",
    "\n",
    "for num in list1:\n",
    "    if num % 2 != 0:\n",
    "        print(num, end=\" \")"
   ]
  },
  {
   "cell_type": "code",
   "execution_count": 20,
   "id": "499253dc",
   "metadata": {},
   "outputs": [
    {
     "name": "stdout",
     "output_type": "stream",
     "text": [
      "The original list is : [5, 6, [], 3, [], [], 9]\n",
      "List after empty list removal : [5, 6, 3, 9]\n"
     ]
    }
   ],
   "source": [
    "9.\n",
    "\n",
    "test_list = [5, 6, [], 3, [], [], 9]\n",
    "\n",
    "print(\"The original list is : \" + str(test_list))\n",
    "\n",
    "res = list(filter(None, test_list))\n",
    "\n",
    "\n",
    "print (\"List after empty list removal : \" + str(res))\n"
   ]
  },
  {
   "cell_type": "code",
   "execution_count": 22,
   "id": "2bf4cb02",
   "metadata": {},
   "outputs": [
    {
     "name": "stdout",
     "output_type": "stream",
     "text": [
      "Original List: [4, 8, 2, 10, 15, 18]\n",
      "After Cloning: [4, 8, 2, 10, 15, 18]\n"
     ]
    }
   ],
   "source": [
    "10.\n",
    "\n",
    "\n",
    "def Cloning(l1):\n",
    "    l_copy = l1[:]\n",
    "    return l_copy\n",
    "\n",
    "l1 = [4, 8, 2, 10, 15, 18]\n",
    "l2 = Cloning(l1)\n",
    "print(\"Original List:\", l1)\n",
    "print(\"After Cloning:\", l2)\n"
   ]
  },
  {
   "cell_type": "code",
   "execution_count": 23,
   "id": "e0bb5015",
   "metadata": {},
   "outputs": [
    {
     "name": "stdout",
     "output_type": "stream",
     "text": [
      "3 has occurred 2 times\n"
     ]
    }
   ],
   "source": [
    "11.\n",
    "\n",
    "from collections import Counter\n",
    "\n",
    "\n",
    "l = [1, 1, 2, 2, 3, 3, 4, 4, 5, 5]\n",
    "\n",
    "x = 3\n",
    "d = Counter(l)\n",
    "print('{} has occurred {} times'.format(x, d[x]))\n"
   ]
  },
  {
   "cell_type": "code",
   "execution_count": null,
   "id": "16fabec1",
   "metadata": {},
   "outputs": [],
   "source": []
  }
 ],
 "metadata": {
  "kernelspec": {
   "display_name": "Python 3 (ipykernel)",
   "language": "python",
   "name": "python3"
  },
  "language_info": {
   "codemirror_mode": {
    "name": "ipython",
    "version": 3
   },
   "file_extension": ".py",
   "mimetype": "text/x-python",
   "name": "python",
   "nbconvert_exporter": "python",
   "pygments_lexer": "ipython3",
   "version": "3.9.7"
  }
 },
 "nbformat": 4,
 "nbformat_minor": 5
}
